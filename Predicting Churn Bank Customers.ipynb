{
 "cells": [
  {
   "cell_type": "code",
   "execution_count": 1,
   "metadata": {
    "ExecuteTime": {
     "end_time": "2021-02-09T19:22:10.039028Z",
     "start_time": "2021-02-09T19:22:10.033531Z"
    }
   },
   "outputs": [],
   "source": [
    "# Import various libraries\n",
    "import pandas as pd\n",
    "import numpy as np\n",
    "import matplotlib.pyplot as plt\n",
    "import seaborn as sns\n",
    "%matplotlib inline"
   ]
  },
  {
   "cell_type": "markdown",
   "metadata": {},
   "source": [
    "# Data"
   ]
  },
  {
   "cell_type": "markdown",
   "metadata": {},
   "source": [
    "The following data with 10,000 bank customer was obtained from Kaggle, and it can be obtained from the following <a href='https://www.kaggle.com/santoshd3/bank-customers'> LINK </a>."
   ]
  },
  {
   "cell_type": "markdown",
   "metadata": {},
   "source": [
    "# EDA / Data Cleaning"
   ]
  },
  {
   "cell_type": "code",
   "execution_count": 2,
   "metadata": {
    "ExecuteTime": {
     "end_time": "2021-02-09T19:23:23.442569Z",
     "start_time": "2021-02-09T19:23:23.412637Z"
    }
   },
   "outputs": [],
   "source": [
    "# import dataset\n",
    "df = pd.read_csv('dataset/Churn_Modeling.csv')"
   ]
  },
  {
   "cell_type": "code",
   "execution_count": 3,
   "metadata": {
    "ExecuteTime": {
     "end_time": "2021-02-09T19:23:30.768990Z",
     "start_time": "2021-02-09T19:23:30.748351Z"
    }
   },
   "outputs": [
    {
     "data": {
      "text/html": [
       "<div>\n",
       "<style scoped>\n",
       "    .dataframe tbody tr th:only-of-type {\n",
       "        vertical-align: middle;\n",
       "    }\n",
       "\n",
       "    .dataframe tbody tr th {\n",
       "        vertical-align: top;\n",
       "    }\n",
       "\n",
       "    .dataframe thead th {\n",
       "        text-align: right;\n",
       "    }\n",
       "</style>\n",
       "<table border=\"1\" class=\"dataframe\">\n",
       "  <thead>\n",
       "    <tr style=\"text-align: right;\">\n",
       "      <th></th>\n",
       "      <th>RowNumber</th>\n",
       "      <th>CustomerId</th>\n",
       "      <th>Surname</th>\n",
       "      <th>CreditScore</th>\n",
       "      <th>Geography</th>\n",
       "      <th>Gender</th>\n",
       "      <th>Age</th>\n",
       "      <th>Tenure</th>\n",
       "      <th>Balance</th>\n",
       "      <th>NumOfProducts</th>\n",
       "      <th>HasCrCard</th>\n",
       "      <th>IsActiveMember</th>\n",
       "      <th>EstimatedSalary</th>\n",
       "      <th>Exited</th>\n",
       "    </tr>\n",
       "  </thead>\n",
       "  <tbody>\n",
       "    <tr>\n",
       "      <th>0</th>\n",
       "      <td>1</td>\n",
       "      <td>15634602</td>\n",
       "      <td>Hargrave</td>\n",
       "      <td>619</td>\n",
       "      <td>France</td>\n",
       "      <td>Female</td>\n",
       "      <td>42</td>\n",
       "      <td>2</td>\n",
       "      <td>0.00</td>\n",
       "      <td>1</td>\n",
       "      <td>1</td>\n",
       "      <td>1</td>\n",
       "      <td>101348.88</td>\n",
       "      <td>1</td>\n",
       "    </tr>\n",
       "    <tr>\n",
       "      <th>1</th>\n",
       "      <td>2</td>\n",
       "      <td>15647311</td>\n",
       "      <td>Hill</td>\n",
       "      <td>608</td>\n",
       "      <td>Spain</td>\n",
       "      <td>Female</td>\n",
       "      <td>41</td>\n",
       "      <td>1</td>\n",
       "      <td>83807.86</td>\n",
       "      <td>1</td>\n",
       "      <td>0</td>\n",
       "      <td>1</td>\n",
       "      <td>112542.58</td>\n",
       "      <td>0</td>\n",
       "    </tr>\n",
       "    <tr>\n",
       "      <th>2</th>\n",
       "      <td>3</td>\n",
       "      <td>15619304</td>\n",
       "      <td>Onio</td>\n",
       "      <td>502</td>\n",
       "      <td>France</td>\n",
       "      <td>Female</td>\n",
       "      <td>42</td>\n",
       "      <td>8</td>\n",
       "      <td>159660.80</td>\n",
       "      <td>3</td>\n",
       "      <td>1</td>\n",
       "      <td>0</td>\n",
       "      <td>113931.57</td>\n",
       "      <td>1</td>\n",
       "    </tr>\n",
       "    <tr>\n",
       "      <th>3</th>\n",
       "      <td>4</td>\n",
       "      <td>15701354</td>\n",
       "      <td>Boni</td>\n",
       "      <td>699</td>\n",
       "      <td>France</td>\n",
       "      <td>Female</td>\n",
       "      <td>39</td>\n",
       "      <td>1</td>\n",
       "      <td>0.00</td>\n",
       "      <td>2</td>\n",
       "      <td>0</td>\n",
       "      <td>0</td>\n",
       "      <td>93826.63</td>\n",
       "      <td>0</td>\n",
       "    </tr>\n",
       "    <tr>\n",
       "      <th>4</th>\n",
       "      <td>5</td>\n",
       "      <td>15737888</td>\n",
       "      <td>Mitchell</td>\n",
       "      <td>850</td>\n",
       "      <td>Spain</td>\n",
       "      <td>Female</td>\n",
       "      <td>43</td>\n",
       "      <td>2</td>\n",
       "      <td>125510.82</td>\n",
       "      <td>1</td>\n",
       "      <td>1</td>\n",
       "      <td>1</td>\n",
       "      <td>79084.10</td>\n",
       "      <td>0</td>\n",
       "    </tr>\n",
       "  </tbody>\n",
       "</table>\n",
       "</div>"
      ],
      "text/plain": [
       "   RowNumber  CustomerId   Surname  CreditScore Geography  Gender  Age  \\\n",
       "0          1    15634602  Hargrave          619    France  Female   42   \n",
       "1          2    15647311      Hill          608     Spain  Female   41   \n",
       "2          3    15619304      Onio          502    France  Female   42   \n",
       "3          4    15701354      Boni          699    France  Female   39   \n",
       "4          5    15737888  Mitchell          850     Spain  Female   43   \n",
       "\n",
       "   Tenure    Balance  NumOfProducts  HasCrCard  IsActiveMember  \\\n",
       "0       2       0.00              1          1               1   \n",
       "1       1   83807.86              1          0               1   \n",
       "2       8  159660.80              3          1               0   \n",
       "3       1       0.00              2          0               0   \n",
       "4       2  125510.82              1          1               1   \n",
       "\n",
       "   EstimatedSalary  Exited  \n",
       "0        101348.88       1  \n",
       "1        112542.58       0  \n",
       "2        113931.57       1  \n",
       "3         93826.63       0  \n",
       "4         79084.10       0  "
      ]
     },
     "execution_count": 3,
     "metadata": {},
     "output_type": "execute_result"
    }
   ],
   "source": [
    "df.head()"
   ]
  },
  {
   "cell_type": "code",
   "execution_count": 4,
   "metadata": {
    "ExecuteTime": {
     "end_time": "2021-02-09T19:23:38.979570Z",
     "start_time": "2021-02-09T19:23:38.972415Z"
    }
   },
   "outputs": [
    {
     "data": {
      "text/plain": [
       "RowNumber          0\n",
       "CustomerId         0\n",
       "Surname            0\n",
       "CreditScore        0\n",
       "Geography          0\n",
       "Gender             0\n",
       "Age                0\n",
       "Tenure             0\n",
       "Balance            0\n",
       "NumOfProducts      0\n",
       "HasCrCard          0\n",
       "IsActiveMember     0\n",
       "EstimatedSalary    0\n",
       "Exited             0\n",
       "dtype: int64"
      ]
     },
     "execution_count": 4,
     "metadata": {},
     "output_type": "execute_result"
    }
   ],
   "source": [
    "# Check for any null values\n",
    "df.isna().sum()"
   ]
  },
  {
   "cell_type": "code",
   "execution_count": 5,
   "metadata": {
    "ExecuteTime": {
     "end_time": "2021-02-09T19:25:50.701576Z",
     "start_time": "2021-02-09T19:25:49.071823Z"
    }
   },
   "outputs": [
    {
     "data": {
      "text/plain": [
       "<matplotlib.axes._subplots.AxesSubplot at 0x7f80db4b2700>"
      ]
     },
     "execution_count": 5,
     "metadata": {},
     "output_type": "execute_result"
    },
    {
     "data": {
      "image/png": "[encoded data removed]",
      "text/plain": [
       "<Figure size 1440x1440 with 2 Axes>"
      ]
     },
     "metadata": {
      "needs_background": "light"
     },
     "output_type": "display_data"
    }
   ],
   "source": [
    "# correlation map\n",
    "fig, ax = plt.subplots(figsize=(20,20))\n",
    "sns.heatmap(df.corr(), annot=True, cmap=\"RdBu\")"
   ]
  },
  {
   "cell_type": "markdown",
   "metadata": {},
   "source": [
    "> From the above correlation figure, it seems like `age`, `balance` and `estimated salary` are correlated with customers' churn rate."
   ]
  },
  {
   "cell_type": "code",
   "execution_count": 27,
   "metadata": {
    "ExecuteTime": {
     "end_time": "2021-02-09T19:28:24.497140Z",
     "start_time": "2021-02-09T19:28:24.492460Z"
    }
   },
   "outputs": [],
   "source": [
    "# Set X and y\n",
    "X = df.iloc[:,3:-1]\n",
    "y = df.iloc[:,-1]"
   ]
  },
  {
   "cell_type": "code",
   "execution_count": 29,
   "metadata": {
    "ExecuteTime": {
     "end_time": "2021-02-09T19:28:52.553611Z",
     "start_time": "2021-02-09T19:28:52.537664Z"
    }
   },
   "outputs": [
    {
     "name": "stdout",
     "output_type": "stream",
     "text": [
      "<class 'pandas.core.frame.DataFrame'>\n",
      "RangeIndex: 10000 entries, 0 to 9999\n",
      "Data columns (total 14 columns):\n",
      " #   Column           Non-Null Count  Dtype  \n",
      "---  ------           --------------  -----  \n",
      " 0   RowNumber        10000 non-null  int64  \n",
      " 1   CustomerId       10000 non-null  int64  \n",
      " 2   Surname          10000 non-null  object \n",
      " 3   CreditScore      10000 non-null  int64  \n",
      " 4   Geography        10000 non-null  object \n",
      " 5   Gender           10000 non-null  object \n",
      " 6   Age              10000 non-null  int64  \n",
      " 7   Tenure           10000 non-null  int64  \n",
      " 8   Balance          10000 non-null  float64\n",
      " 9   NumOfProducts    10000 non-null  int64  \n",
      " 10  HasCrCard        10000 non-null  int64  \n",
      " 11  IsActiveMember   10000 non-null  int64  \n",
      " 12  EstimatedSalary  10000 non-null  float64\n",
      " 13  Exited           10000 non-null  int64  \n",
      "dtypes: float64(2), int64(9), object(3)\n",
      "memory usage: 1.1+ MB\n"
     ]
    }
   ],
   "source": [
    "# Checking the types of data in df.\n",
    "df.info()"
   ]
  },
  {
   "cell_type": "markdown",
   "metadata": {},
   "source": [
    "> We can see that `Geography` and `Gender` are categorical data."
   ]
  },
  {
   "cell_type": "code",
   "execution_count": 31,
   "metadata": {
    "ExecuteTime": {
     "end_time": "2021-02-09T19:30:57.323770Z",
     "start_time": "2021-02-09T19:30:57.317335Z"
    }
   },
   "outputs": [],
   "source": [
    "# Get dummy variables\n",
    "geography = pd.get_dummies(X['Geography'], drop_first=True)\n",
    "gender = pd.get_dummies(X['Gender'], drop_first=True)"
   ]
  },
  {
   "cell_type": "code",
   "execution_count": 32,
   "metadata": {
    "ExecuteTime": {
     "end_time": "2021-02-09T19:31:47.662752Z",
     "start_time": "2021-02-09T19:31:47.658655Z"
    }
   },
   "outputs": [],
   "source": [
    "# Drop categorical features from X.\n",
    "X.drop(['Geography', 'Gender'], axis=1, inplace=True)"
   ]
  },
  {
   "cell_type": "code",
   "execution_count": 34,
   "metadata": {
    "ExecuteTime": {
     "end_time": "2021-02-09T19:31:55.763943Z",
     "start_time": "2021-02-09T19:31:55.751163Z"
    }
   },
   "outputs": [
    {
     "data": {
      "text/html": [
       "<div>\n",
       "<style scoped>\n",
       "    .dataframe tbody tr th:only-of-type {\n",
       "        vertical-align: middle;\n",
       "    }\n",
       "\n",
       "    .dataframe tbody tr th {\n",
       "        vertical-align: top;\n",
       "    }\n",
       "\n",
       "    .dataframe thead th {\n",
       "        text-align: right;\n",
       "    }\n",
       "</style>\n",
       "<table border=\"1\" class=\"dataframe\">\n",
       "  <thead>\n",
       "    <tr style=\"text-align: right;\">\n",
       "      <th></th>\n",
       "      <th>CreditScore</th>\n",
       "      <th>Age</th>\n",
       "      <th>Tenure</th>\n",
       "      <th>Balance</th>\n",
       "      <th>NumOfProducts</th>\n",
       "      <th>HasCrCard</th>\n",
       "      <th>IsActiveMember</th>\n",
       "      <th>EstimatedSalary</th>\n",
       "    </tr>\n",
       "  </thead>\n",
       "  <tbody>\n",
       "    <tr>\n",
       "      <th>0</th>\n",
       "      <td>619</td>\n",
       "      <td>42</td>\n",
       "      <td>2</td>\n",
       "      <td>0.00</td>\n",
       "      <td>1</td>\n",
       "      <td>1</td>\n",
       "      <td>1</td>\n",
       "      <td>101348.88</td>\n",
       "    </tr>\n",
       "    <tr>\n",
       "      <th>1</th>\n",
       "      <td>608</td>\n",
       "      <td>41</td>\n",
       "      <td>1</td>\n",
       "      <td>83807.86</td>\n",
       "      <td>1</td>\n",
       "      <td>0</td>\n",
       "      <td>1</td>\n",
       "      <td>112542.58</td>\n",
       "    </tr>\n",
       "    <tr>\n",
       "      <th>2</th>\n",
       "      <td>502</td>\n",
       "      <td>42</td>\n",
       "      <td>8</td>\n",
       "      <td>159660.80</td>\n",
       "      <td>3</td>\n",
       "      <td>1</td>\n",
       "      <td>0</td>\n",
       "      <td>113931.57</td>\n",
       "    </tr>\n",
       "    <tr>\n",
       "      <th>3</th>\n",
       "      <td>699</td>\n",
       "      <td>39</td>\n",
       "      <td>1</td>\n",
       "      <td>0.00</td>\n",
       "      <td>2</td>\n",
       "      <td>0</td>\n",
       "      <td>0</td>\n",
       "      <td>93826.63</td>\n",
       "    </tr>\n",
       "    <tr>\n",
       "      <th>4</th>\n",
       "      <td>850</td>\n",
       "      <td>43</td>\n",
       "      <td>2</td>\n",
       "      <td>125510.82</td>\n",
       "      <td>1</td>\n",
       "      <td>1</td>\n",
       "      <td>1</td>\n",
       "      <td>79084.10</td>\n",
       "    </tr>\n",
       "  </tbody>\n",
       "</table>\n",
       "</div>"
      ],
      "text/plain": [
       "   CreditScore  Age  Tenure    Balance  NumOfProducts  HasCrCard  \\\n",
       "0          619   42       2       0.00              1          1   \n",
       "1          608   41       1   83807.86              1          0   \n",
       "2          502   42       8  159660.80              3          1   \n",
       "3          699   39       1       0.00              2          0   \n",
       "4          850   43       2  125510.82              1          1   \n",
       "\n",
       "   IsActiveMember  EstimatedSalary  \n",
       "0               1        101348.88  \n",
       "1               1        112542.58  \n",
       "2               0        113931.57  \n",
       "3               0         93826.63  \n",
       "4               1         79084.10  "
      ]
     },
     "execution_count": 34,
     "metadata": {},
     "output_type": "execute_result"
    }
   ],
   "source": [
    "X.head() # Check to see whether the two features are removed"
   ]
  },
  {
   "cell_type": "code",
   "execution_count": 37,
   "metadata": {
    "ExecuteTime": {
     "end_time": "2021-02-09T19:33:17.621936Z",
     "start_time": "2021-02-09T19:33:17.616585Z"
    }
   },
   "outputs": [],
   "source": [
    "# Concatenate the three dataframes into one\n",
    "X = pd.concat([X, geography, gender], axis=1) "
   ]
  },
  {
   "cell_type": "code",
   "execution_count": 38,
   "metadata": {
    "ExecuteTime": {
     "end_time": "2021-02-09T19:33:26.843700Z",
     "start_time": "2021-02-09T19:33:26.829989Z"
    }
   },
   "outputs": [
    {
     "data": {
      "text/html": [
       "<div>\n",
       "<style scoped>\n",
       "    .dataframe tbody tr th:only-of-type {\n",
       "        vertical-align: middle;\n",
       "    }\n",
       "\n",
       "    .dataframe tbody tr th {\n",
       "        vertical-align: top;\n",
       "    }\n",
       "\n",
       "    .dataframe thead th {\n",
       "        text-align: right;\n",
       "    }\n",
       "</style>\n",
       "<table border=\"1\" class=\"dataframe\">\n",
       "  <thead>\n",
       "    <tr style=\"text-align: right;\">\n",
       "      <th></th>\n",
       "      <th>CreditScore</th>\n",
       "      <th>Age</th>\n",
       "      <th>Tenure</th>\n",
       "      <th>Balance</th>\n",
       "      <th>NumOfProducts</th>\n",
       "      <th>HasCrCard</th>\n",
       "      <th>IsActiveMember</th>\n",
       "      <th>EstimatedSalary</th>\n",
       "      <th>Germany</th>\n",
       "      <th>Spain</th>\n",
       "      <th>Male</th>\n",
       "    </tr>\n",
       "  </thead>\n",
       "  <tbody>\n",
       "    <tr>\n",
       "      <th>0</th>\n",
       "      <td>619</td>\n",
       "      <td>42</td>\n",
       "      <td>2</td>\n",
       "      <td>0.00</td>\n",
       "      <td>1</td>\n",
       "      <td>1</td>\n",
       "      <td>1</td>\n",
       "      <td>101348.88</td>\n",
       "      <td>0</td>\n",
       "      <td>0</td>\n",
       "      <td>0</td>\n",
       "    </tr>\n",
       "    <tr>\n",
       "      <th>1</th>\n",
       "      <td>608</td>\n",
       "      <td>41</td>\n",
       "      <td>1</td>\n",
       "      <td>83807.86</td>\n",
       "      <td>1</td>\n",
       "      <td>0</td>\n",
       "      <td>1</td>\n",
       "      <td>112542.58</td>\n",
       "      <td>0</td>\n",
       "      <td>1</td>\n",
       "      <td>0</td>\n",
       "    </tr>\n",
       "    <tr>\n",
       "      <th>2</th>\n",
       "      <td>502</td>\n",
       "      <td>42</td>\n",
       "      <td>8</td>\n",
       "      <td>159660.80</td>\n",
       "      <td>3</td>\n",
       "      <td>1</td>\n",
       "      <td>0</td>\n",
       "      <td>113931.57</td>\n",
       "      <td>0</td>\n",
       "      <td>0</td>\n",
       "      <td>0</td>\n",
       "    </tr>\n",
       "    <tr>\n",
       "      <th>3</th>\n",
       "      <td>699</td>\n",
       "      <td>39</td>\n",
       "      <td>1</td>\n",
       "      <td>0.00</td>\n",
       "      <td>2</td>\n",
       "      <td>0</td>\n",
       "      <td>0</td>\n",
       "      <td>93826.63</td>\n",
       "      <td>0</td>\n",
       "      <td>0</td>\n",
       "      <td>0</td>\n",
       "    </tr>\n",
       "    <tr>\n",
       "      <th>4</th>\n",
       "      <td>850</td>\n",
       "      <td>43</td>\n",
       "      <td>2</td>\n",
       "      <td>125510.82</td>\n",
       "      <td>1</td>\n",
       "      <td>1</td>\n",
       "      <td>1</td>\n",
       "      <td>79084.10</td>\n",
       "      <td>0</td>\n",
       "      <td>1</td>\n",
       "      <td>0</td>\n",
       "    </tr>\n",
       "  </tbody>\n",
       "</table>\n",
       "</div>"
      ],
      "text/plain": [
       "   CreditScore  Age  Tenure    Balance  NumOfProducts  HasCrCard  \\\n",
       "0          619   42       2       0.00              1          1   \n",
       "1          608   41       1   83807.86              1          0   \n",
       "2          502   42       8  159660.80              3          1   \n",
       "3          699   39       1       0.00              2          0   \n",
       "4          850   43       2  125510.82              1          1   \n",
       "\n",
       "   IsActiveMember  EstimatedSalary  Germany  Spain  Male  \n",
       "0               1        101348.88        0      0     0  \n",
       "1               1        112542.58        0      1     0  \n",
       "2               0        113931.57        0      0     0  \n",
       "3               0         93826.63        0      0     0  \n",
       "4               1         79084.10        0      1     0  "
      ]
     },
     "execution_count": 38,
     "metadata": {},
     "output_type": "execute_result"
    }
   ],
   "source": [
    "X.head()"
   ]
  },
  {
   "cell_type": "markdown",
   "metadata": {},
   "source": [
    "> Now you can see that dummy features have been added on the right columns."
   ]
  },
  {
   "cell_type": "markdown",
   "metadata": {},
   "source": [
    "# Predictive Models"
   ]
  },
  {
   "cell_type": "code",
   "execution_count": 43,
   "metadata": {
    "ExecuteTime": {
     "end_time": "2021-02-09T19:38:50.690865Z",
     "start_time": "2021-02-09T19:38:50.680171Z"
    }
   },
   "outputs": [],
   "source": [
    "# Train/Test Split\n",
    "from sklearn.model_selection import train_test_split\n",
    "X_train, X_test, y_train, y_test = train_test_split(X, y, train_size=0.8, stratify=y)"
   ]
  },
  {
   "cell_type": "code",
   "execution_count": 51,
   "metadata": {
    "ExecuteTime": {
     "end_time": "2021-02-09T19:39:59.450587Z",
     "start_time": "2021-02-09T19:39:59.443661Z"
    }
   },
   "outputs": [
    {
     "name": "stdout",
     "output_type": "stream",
     "text": [
      "0    0.79625\n",
      "1    0.20375\n",
      "Name: Exited, dtype: float64\n",
      "0    0.7965\n",
      "1    0.2035\n",
      "Name: Exited, dtype: float64\n"
     ]
    }
   ],
   "source": [
    "# Check if data has been divided 'evenly'\n",
    "print(y_train.value_counts(1))\n",
    "print(y_test.value_counts(1))"
   ]
  },
  {
   "cell_type": "code",
   "execution_count": 70,
   "metadata": {
    "ExecuteTime": {
     "end_time": "2021-02-09T20:17:04.339827Z",
     "start_time": "2021-02-09T20:17:03.560452Z"
    }
   },
   "outputs": [
    {
     "data": {
      "text/plain": [
       "XGBClassifier()"
      ]
     },
     "execution_count": 70,
     "metadata": {},
     "output_type": "execute_result"
    }
   ],
   "source": [
    "# Import XGBoost\n",
    "from xgboost import XGBClassifier\n",
    "\n",
    "# Instantiate and fit/transform XGBClassifier\n",
    "xgb = XGBClassifier()\n",
    "xgb.fit(X_train, y_train)"
   ]
  },
  {
   "cell_type": "code",
   "execution_count": 96,
   "metadata": {
    "ExecuteTime": {
     "end_time": "2021-02-10T15:14:47.570106Z",
     "start_time": "2021-02-10T15:14:47.563960Z"
    }
   },
   "outputs": [],
   "source": [
    "from sklearn.metrics import accuracy_score, roc_auc_score, classification_report\n",
    "from sklearn.metrics import plot_confusion_matrix\n",
    "def evaluate_model(estimator, X_test, y_test):\n",
    "    \"\"\"\n",
    "    Evaluates a model using accuarcy, roc_auc_score, confusion matrix, classification report.\n",
    "    \"\"\"\n",
    "    # Predicted test y_values\n",
    "    y_pred = estimator.predict(X_test)\n",
    "\n",
    "    # Calculuates accuarcy of the model\n",
    "    accuracy = accuracy_score(y_test, y_pred)\n",
    "    # Calculuates ROC of the moodel\n",
    "    roc = roc_auc_score(y_test, y_pred)\n",
    "\n",
    "    # Create classification report\n",
    "    print('#'*53)\n",
    "    print('#'*15,'Classification Report','#'*15,)\n",
    "    print('#'*53)\n",
    "    print(classification_report(y_test, y_pred,))\n",
    "    # Prints out the accuracy and roc\n",
    "    print(f\"Accuracy: {round(accuracy*100,2)}%\")\n",
    "    print(f\"ROC: {round(roc,2)}\")\n",
    "    print('#'*53)\n",
    "    # Create confusion matrix plot\n",
    "    plot_confusion_matrix(xgb, X_test, y_test, cmap='Blues', normalize='true')"
   ]
  },
  {
   "cell_type": "code",
   "execution_count": 97,
   "metadata": {
    "ExecuteTime": {
     "end_time": "2021-02-10T15:14:48.139007Z",
     "start_time": "2021-02-10T15:14:47.910230Z"
    }
   },
   "outputs": [
    {
     "name": "stdout",
     "output_type": "stream",
     "text": [
      "#####################################################\n",
      "############### Classification Report ###############\n",
      "#####################################################\n",
      "              precision    recall  f1-score   support\n",
      "\n",
      "           0       0.88      0.97      0.92      1593\n",
      "           1       0.80      0.46      0.59       407\n",
      "\n",
      "    accuracy                           0.87      2000\n",
      "   macro avg       0.84      0.72      0.75      2000\n",
      "weighted avg       0.86      0.87      0.85      2000\n",
      "\n",
      "Accuracy: 86.7%\n",
      "ROC: 0.72\n",
      "#####################################################\n"
     ]
    },
    {
     "data": {
      "image/png": "[encoded data removed]",
      "text/plain": [
       "<Figure size 432x288 with 2 Axes>"
      ]
     },
     "metadata": {
      "needs_background": "light"
     },
     "output_type": "display_data"
    }
   ],
   "source": [
    "# Evaluates the initial model\n",
    "evaluate_model(xgb, X_test, y_test)"
   ]
  },
  {
   "cell_type": "markdown",
   "metadata": {},
   "source": [
    "# Hyperparameter Tuning Using RandomGridSearch"
   ]
  },
  {
   "cell_type": "code",
   "execution_count": 69,
   "metadata": {
    "ExecuteTime": {
     "end_time": "2021-02-09T20:15:40.066922Z",
     "start_time": "2021-02-09T20:15:40.063696Z"
    }
   },
   "outputs": [],
   "source": [
    "from sklearn.model_selection import RandomizedSearchCV, GridSearchCV"
   ]
  },
  {
   "cell_type": "code",
   "execution_count": 68,
   "metadata": {
    "ExecuteTime": {
     "end_time": "2021-02-09T20:07:39.559886Z",
     "start_time": "2021-02-09T20:07:39.555458Z"
    }
   },
   "outputs": [],
   "source": [
    "# Source: https://www.youtube.com/watch?v=9HomdnM12o4\n",
    "# Hyperparameter optimization\n",
    "params = {\n",
    "    'learning_rate'    : [0.05, 0.10, 0.15, 0.20, 0.25, 0.30],\n",
    "    'max_depth'        : [3, 4, 5, 6, 8, 10, 12, 15],\n",
    "    'min_child_weight' : [1, 3, 5, 7],\n",
    "    'gamma'            : [0.0, 0.1, 0.2, 0.3, 0.4],\n",
    "    'colsample_bytree' : [0.3, 0.4, 0.5, 0.7]\n",
    "}"
   ]
  },
  {
   "cell_type": "code",
   "execution_count": 71,
   "metadata": {
    "ExecuteTime": {
     "end_time": "2021-02-10T15:02:33.704477Z",
     "start_time": "2021-02-10T15:02:33.688973Z"
    }
   },
   "outputs": [],
   "source": [
    "rs = RandomizedSearchCV(xgb, param_distributions=params, n_iter=5, scoring='roc_auc', n_jobs=-1, cv=5, verbose=3)"
   ]
  },
  {
   "cell_type": "code",
   "execution_count": 73,
   "metadata": {
    "ExecuteTime": {
     "end_time": "2021-02-10T15:05:14.648056Z",
     "start_time": "2021-02-10T15:05:14.637016Z"
    }
   },
   "outputs": [],
   "source": [
    "# Code by Krish Naik LINK: https://www.youtube.com/watch?v=9HomdnM12o4\n",
    "def timer(start_time=None):\n",
    "    if not start_time:\n",
    "        start_time = datetime.now()\n",
    "        return start_time\n",
    "    elif start_time:\n",
    "        thour, temp_sec = divmod((datetime.now() - start_time).total_seconds(), 3600)\n",
    "        tmin, tsec = divmod(temp_sec, 60)\n",
    "        print('\\n Time taken: %i hours %i minutes and %s seconds.' % (thour, tmin, round(tsec, 2)))"
   ]
  },
  {
   "cell_type": "code",
   "execution_count": 74,
   "metadata": {
    "ExecuteTime": {
     "end_time": "2021-02-10T15:06:17.414226Z",
     "start_time": "2021-02-10T15:06:07.180262Z"
    }
   },
   "outputs": [
    {
     "name": "stdout",
     "output_type": "stream",
     "text": [
      "Fitting 5 folds for each of 5 candidates, totalling 25 fits\n"
     ]
    },
    {
     "name": "stderr",
     "output_type": "stream",
     "text": [
      "[Parallel(n_jobs=-1)]: Using backend LokyBackend with 8 concurrent workers.\n",
      "[Parallel(n_jobs=-1)]: Done  19 out of  25 | elapsed:    9.0s remaining:    2.8s\n",
      "[Parallel(n_jobs=-1)]: Done  25 out of  25 | elapsed:    9.3s finished\n"
     ]
    },
    {
     "name": "stdout",
     "output_type": "stream",
     "text": [
      "\n",
      " Time taken: 0 hours 0 minutes and 10.23 seconds.\n"
     ]
    }
   ],
   "source": [
    "from datetime import datetime\n",
    "\n",
    "start_time = timer(None)\n",
    "rs.fit(X_train, y_train)\n",
    "timer(start_time)"
   ]
  },
  {
   "cell_type": "code",
   "execution_count": 75,
   "metadata": {
    "ExecuteTime": {
     "end_time": "2021-02-10T15:06:38.160686Z",
     "start_time": "2021-02-10T15:06:38.155447Z"
    }
   },
   "outputs": [
    {
     "data": {
      "text/plain": [
       "{'min_child_weight': 3,\n",
       " 'max_depth': 6,\n",
       " 'learning_rate': 0.05,\n",
       " 'gamma': 0.0,\n",
       " 'colsample_bytree': 0.5}"
      ]
     },
     "execution_count": 75,
     "metadata": {},
     "output_type": "execute_result"
    }
   ],
   "source": [
    "rs.best_params_"
   ]
  },
  {
   "cell_type": "code",
   "execution_count": 98,
   "metadata": {
    "ExecuteTime": {
     "end_time": "2021-02-10T15:15:35.390013Z",
     "start_time": "2021-02-10T15:15:35.387108Z"
    }
   },
   "outputs": [],
   "source": [
    "best_xgb = rs.best_estimator_"
   ]
  },
  {
   "cell_type": "code",
   "execution_count": 99,
   "metadata": {
    "ExecuteTime": {
     "end_time": "2021-02-10T15:15:43.067934Z",
     "start_time": "2021-02-10T15:15:42.821088Z"
    }
   },
   "outputs": [
    {
     "name": "stdout",
     "output_type": "stream",
     "text": [
      "#####################################################\n",
      "############### Classification Report ###############\n",
      "#####################################################\n",
      "              precision    recall  f1-score   support\n",
      "\n",
      "           0       0.87      0.98      0.92      1593\n",
      "           1       0.83      0.43      0.57       407\n",
      "\n",
      "    accuracy                           0.87      2000\n",
      "   macro avg       0.85      0.70      0.74      2000\n",
      "weighted avg       0.86      0.87      0.85      2000\n",
      "\n",
      "Accuracy: 86.65%\n",
      "ROC: 0.7\n",
      "#####################################################\n"
     ]
    },
    {
     "data": {
      "image/png": "[encoded data removed]",
      "text/plain": [
       "<Figure size 432x288 with 2 Axes>"
      ]
     },
     "metadata": {
      "needs_background": "light"
     },
     "output_type": "display_data"
    }
   ],
   "source": [
    "# Evaluate the best model\n",
    "evaluate_model(best_xgb, X_test, y_test)"
   ]
  },
  {
   "cell_type": "markdown",
   "metadata": {},
   "source": [
    "## Cross validation"
   ]
  },
  {
   "cell_type": "code",
   "execution_count": 103,
   "metadata": {
    "ExecuteTime": {
     "end_time": "2021-02-10T15:45:55.450969Z",
     "start_time": "2021-02-10T15:45:46.433680Z"
    }
   },
   "outputs": [],
   "source": [
    "from sklearn.model_selection import cross_val_score\n",
    "score = cross_val_score(rs.best_estimator_, X, y, cv=10)"
   ]
  },
  {
   "cell_type": "code",
   "execution_count": 105,
   "metadata": {
    "ExecuteTime": {
     "end_time": "2021-02-10T15:46:05.067756Z",
     "start_time": "2021-02-10T15:46:05.063194Z"
    }
   },
   "outputs": [
    {
     "data": {
      "text/plain": [
       "0.8645999999999999"
      ]
     },
     "execution_count": 105,
     "metadata": {},
     "output_type": "execute_result"
    }
   ],
   "source": [
    "np.mean(score)"
   ]
  },
  {
   "cell_type": "code",
   "execution_count": null,
   "metadata": {},
   "outputs": [],
   "source": []
  },
  {
   "cell_type": "markdown",
   "metadata": {},
   "source": [
    "# Neural Network\n"
   ]
  },
  {
   "cell_type": "code",
   "execution_count": 8,
   "metadata": {},
   "outputs": [],
   "source": [
    "new_df = df.drop(['RowNumber', 'CustomerId', 'Surname'], axis=1)"
   ]
  },
  {
   "cell_type": "code",
   "execution_count": 10,
   "metadata": {},
   "outputs": [],
   "source": [
    "from sklearn.model_selection import train_test_split"
   ]
  },
  {
   "cell_type": "code",
   "execution_count": 11,
   "metadata": {},
   "outputs": [],
   "source": [
    "X = new_df.drop('Exited', axis=1)\n",
    "y = new_df['Exited']"
   ]
  },
  {
   "cell_type": "code",
   "execution_count": 41,
   "metadata": {},
   "outputs": [],
   "source": [
    "X_train, X_test, y_train, y_test = train_test_split(X, y, train_size=0.7, stratify=y)"
   ]
  },
  {
   "cell_type": "code",
   "execution_count": 42,
   "metadata": {},
   "outputs": [],
   "source": [
    "from sklearn.preprocessing import MinMaxScaler\n",
    "scaler = MinMaxScaler()"
   ]
  },
  {
   "cell_type": "code",
   "execution_count": 43,
   "metadata": {},
   "outputs": [
    {
     "name": "stderr",
     "output_type": "stream",
     "text": [
      "/opt/anaconda3/lib/python3.8/site-packages/pandas/core/indexing.py:966: SettingWithCopyWarning: \n",
      "A value is trying to be set on a copy of a slice from a DataFrame.\n",
      "Try using .loc[row_indexer,col_indexer] = value instead\n",
      "\n",
      "See the caveats in the documentation: https://pandas.pydata.org/pandas-docs/stable/user_guide/indexing.html#returning-a-view-versus-a-copy\n",
      "  self.obj[item] = s\n",
      "/opt/anaconda3/lib/python3.8/site-packages/pandas/core/indexing.py:966: SettingWithCopyWarning: \n",
      "A value is trying to be set on a copy of a slice from a DataFrame.\n",
      "Try using .loc[row_indexer,col_indexer] = value instead\n",
      "\n",
      "See the caveats in the documentation: https://pandas.pydata.org/pandas-docs/stable/user_guide/indexing.html#returning-a-view-versus-a-copy\n",
      "  self.obj[item] = s\n"
     ]
    }
   ],
   "source": [
    "# Applies min-max scales\n",
    "X_train.loc[:, ['CreditScore', 'Balance', 'EstimatedSalary']] = scaler.fit_transform(X_train[['CreditScore', 'Balance', 'EstimatedSalary']])\n",
    "X_test.loc[:, ['CreditScore', 'Balance', 'EstimatedSalary']] = scaler.transform(X_test[['CreditScore', 'Balance', 'EstimatedSalary']])\n",
    "\n",
    "# gets deummy variables for 'geo' and 'gender' info\n",
    "X_train = pd.get_dummies(X_train, drop_first=True)\n",
    "X_test = pd.get_dummies(X_test, drop_first=True)"
   ]
  },
  {
   "cell_type": "code",
   "execution_count": null,
   "metadata": {},
   "outputs": [],
   "source": [
    "# Creates layers of neurons\n",
    "from tensorflow.keras.models import Sequential\n",
    "from tensorflow.keras.layers import Dense, Activation, Dropout"
   ]
  },
  {
   "cell_type": "code",
   "execution_count": 47,
   "metadata": {},
   "outputs": [],
   "source": [
    "from tensorflow.keras.callbacks import EarlyStopping"
   ]
  },
  {
   "cell_type": "code",
   "execution_count": 51,
   "metadata": {},
   "outputs": [
    {
     "data": {
      "text/plain": [
       "(7000, 11)"
      ]
     },
     "execution_count": 51,
     "metadata": {},
     "output_type": "execute_result"
    }
   ],
   "source": [
    "X_train.values.shape"
   ]
  },
  {
   "cell_type": "markdown",
   "metadata": {},
   "source": [
    "## Model #1"
   ]
  },
  {
   "cell_type": "code",
   "execution_count": 75,
   "metadata": {},
   "outputs": [],
   "source": [
    "model = Sequential()\n",
    "\n",
    "model.add(Dense(11, activation='relu'))\n",
    "model.add(Dense(11, activation='relu'))\n",
    "model.add(Dense(11, activation='relu'))\n",
    "\n",
    "model.add(Dense(1, activation='sigmoid'))\n",
    "\n",
    "model.compile(optimizer='adam', loss='binary_crossentropy')"
   ]
  },
  {
   "cell_type": "code",
   "execution_count": 76,
   "metadata": {},
   "outputs": [
    {
     "name": "stdout",
     "output_type": "stream",
     "text": [
      "Epoch 1/100\n",
      "219/219 [==============================] - 1s 2ms/step - loss: 0.5546 - val_loss: 0.5129\n",
      "Epoch 2/100\n",
      "219/219 [==============================] - 0s 1ms/step - loss: 0.4972 - val_loss: 0.4783\n",
      "Epoch 3/100\n",
      "219/219 [==============================] - 0s 1ms/step - loss: 0.4798 - val_loss: 0.4682\n",
      "Epoch 4/100\n",
      "219/219 [==============================] - 0s 2ms/step - loss: 0.4511 - val_loss: 0.4507\n",
      "Epoch 5/100\n",
      "219/219 [==============================] - 0s 1ms/step - loss: 0.4331 - val_loss: 0.4508\n",
      "Epoch 6/100\n",
      "219/219 [==============================] - 0s 1ms/step - loss: 0.4404 - val_loss: 0.4460\n",
      "Epoch 7/100\n",
      "219/219 [==============================] - 0s 1ms/step - loss: 0.4310 - val_loss: 0.4446\n",
      "Epoch 8/100\n",
      "219/219 [==============================] - 0s 1ms/step - loss: 0.4358 - val_loss: 0.4428\n",
      "Epoch 9/100\n",
      "219/219 [==============================] - 0s 1ms/step - loss: 0.4420 - val_loss: 0.4412\n",
      "Epoch 10/100\n",
      "219/219 [==============================] - 0s 1ms/step - loss: 0.4233 - val_loss: 0.4436\n",
      "Epoch 11/100\n",
      "219/219 [==============================] - 0s 2ms/step - loss: 0.4387 - val_loss: 0.4516\n",
      "Epoch 12/100\n",
      "219/219 [==============================] - 0s 1ms/step - loss: 0.4338 - val_loss: 0.4415\n",
      "Epoch 13/100\n",
      "219/219 [==============================] - 0s 1ms/step - loss: 0.4338 - val_loss: 0.4470\n",
      "Epoch 14/100\n",
      "219/219 [==============================] - 0s 1ms/step - loss: 0.4362 - val_loss: 0.4383\n",
      "Epoch 15/100\n",
      "219/219 [==============================] - 0s 1ms/step - loss: 0.4250 - val_loss: 0.4381\n",
      "Epoch 16/100\n",
      "219/219 [==============================] - 0s 1ms/step - loss: 0.4257 - val_loss: 0.4382\n",
      "Epoch 17/100\n",
      "219/219 [==============================] - 0s 1ms/step - loss: 0.4328 - val_loss: 0.4377\n",
      "Epoch 18/100\n",
      "219/219 [==============================] - 0s 1ms/step - loss: 0.4298 - val_loss: 0.4387\n",
      "Epoch 19/100\n",
      "219/219 [==============================] - 0s 1ms/step - loss: 0.4292 - val_loss: 0.4436\n",
      "Epoch 20/100\n",
      "219/219 [==============================] - 0s 1ms/step - loss: 0.4293 - val_loss: 0.4369\n",
      "Epoch 21/100\n",
      "219/219 [==============================] - 0s 2ms/step - loss: 0.4286 - val_loss: 0.4393\n",
      "Epoch 22/100\n",
      "219/219 [==============================] - 0s 1ms/step - loss: 0.4323 - val_loss: 0.4373\n",
      "Epoch 23/100\n",
      "219/219 [==============================] - 0s 1ms/step - loss: 0.4297 - val_loss: 0.4350\n",
      "Epoch 24/100\n",
      "219/219 [==============================] - 0s 1ms/step - loss: 0.4353 - val_loss: 0.4357\n",
      "Epoch 25/100\n",
      "219/219 [==============================] - 0s 2ms/step - loss: 0.4365 - val_loss: 0.4454\n",
      "Epoch 26/100\n",
      "219/219 [==============================] - 0s 1ms/step - loss: 0.4260 - val_loss: 0.4340\n",
      "Epoch 27/100\n",
      "219/219 [==============================] - 0s 1ms/step - loss: 0.4252 - val_loss: 0.4227\n",
      "Epoch 28/100\n",
      "219/219 [==============================] - 0s 1ms/step - loss: 0.4153 - val_loss: 0.4172\n",
      "Epoch 29/100\n",
      "219/219 [==============================] - 0s 2ms/step - loss: 0.4082 - val_loss: 0.4160\n",
      "Epoch 30/100\n",
      "219/219 [==============================] - 0s 1ms/step - loss: 0.4124 - val_loss: 0.4154\n",
      "Epoch 31/100\n",
      "219/219 [==============================] - 0s 1ms/step - loss: 0.3957 - val_loss: 0.4066\n",
      "Epoch 32/100\n",
      "219/219 [==============================] - 0s 1ms/step - loss: 0.3984 - val_loss: 0.4021\n",
      "Epoch 33/100\n",
      "219/219 [==============================] - 0s 1ms/step - loss: 0.3908 - val_loss: 0.4018\n",
      "Epoch 34/100\n",
      "219/219 [==============================] - 0s 1ms/step - loss: 0.3871 - val_loss: 0.3911\n",
      "Epoch 35/100\n",
      "219/219 [==============================] - 0s 1ms/step - loss: 0.3829 - val_loss: 0.3913\n",
      "Epoch 36/100\n",
      "219/219 [==============================] - 0s 1ms/step - loss: 0.3972 - val_loss: 0.3869\n",
      "Epoch 37/100\n",
      "219/219 [==============================] - 0s 1ms/step - loss: 0.3859 - val_loss: 0.3842\n",
      "Epoch 38/100\n",
      "219/219 [==============================] - 0s 1ms/step - loss: 0.3786 - val_loss: 0.3965\n",
      "Epoch 39/100\n",
      "219/219 [==============================] - 0s 1ms/step - loss: 0.3664 - val_loss: 0.3783\n",
      "Epoch 40/100\n",
      "219/219 [==============================] - 0s 2ms/step - loss: 0.3652 - val_loss: 0.3812\n",
      "Epoch 41/100\n",
      "219/219 [==============================] - 0s 1ms/step - loss: 0.3671 - val_loss: 0.3749\n",
      "Epoch 42/100\n",
      "219/219 [==============================] - 0s 2ms/step - loss: 0.3806 - val_loss: 0.3755\n",
      "Epoch 43/100\n",
      "219/219 [==============================] - 0s 1ms/step - loss: 0.3800 - val_loss: 0.3793\n",
      "Epoch 44/100\n",
      "219/219 [==============================] - 0s 1ms/step - loss: 0.3885 - val_loss: 0.3831\n",
      "Epoch 45/100\n",
      "219/219 [==============================] - 0s 1ms/step - loss: 0.3852 - val_loss: 0.3720\n",
      "Epoch 46/100\n",
      "219/219 [==============================] - 0s 2ms/step - loss: 0.3573 - val_loss: 0.3696\n",
      "Epoch 47/100\n",
      "219/219 [==============================] - 0s 1ms/step - loss: 0.3674 - val_loss: 0.3689\n",
      "Epoch 48/100\n",
      "219/219 [==============================] - 0s 2ms/step - loss: 0.3561 - val_loss: 0.3721\n",
      "Epoch 49/100\n",
      "219/219 [==============================] - 0s 1ms/step - loss: 0.3452 - val_loss: 0.3680\n",
      "Epoch 50/100\n",
      "219/219 [==============================] - 0s 1ms/step - loss: 0.3558 - val_loss: 0.3773\n",
      "Epoch 51/100\n",
      "219/219 [==============================] - 0s 1ms/step - loss: 0.3484 - val_loss: 0.3714\n",
      "Epoch 52/100\n",
      "219/219 [==============================] - 0s 1ms/step - loss: 0.3646 - val_loss: 0.3725\n",
      "Epoch 53/100\n",
      "219/219 [==============================] - 0s 1ms/step - loss: 0.3723 - val_loss: 0.3719\n",
      "Epoch 54/100\n",
      "219/219 [==============================] - 0s 1ms/step - loss: 0.3413 - val_loss: 0.3666\n",
      "Epoch 55/100\n",
      "219/219 [==============================] - 0s 1ms/step - loss: 0.3607 - val_loss: 0.3663\n",
      "Epoch 56/100\n",
      "219/219 [==============================] - 0s 1ms/step - loss: 0.3548 - val_loss: 0.3675\n",
      "Epoch 57/100\n",
      "219/219 [==============================] - 0s 1ms/step - loss: 0.3658 - val_loss: 0.3746\n",
      "Epoch 58/100\n",
      "219/219 [==============================] - 0s 1ms/step - loss: 0.3593 - val_loss: 0.3648\n",
      "Epoch 59/100\n",
      "219/219 [==============================] - 0s 1ms/step - loss: 0.3462 - val_loss: 0.3666\n",
      "Epoch 60/100\n",
      "219/219 [==============================] - 0s 1ms/step - loss: 0.3593 - val_loss: 0.3665\n",
      "Epoch 61/100\n",
      "219/219 [==============================] - 0s 1ms/step - loss: 0.3363 - val_loss: 0.3667\n",
      "Epoch 62/100\n",
      "219/219 [==============================] - 0s 1ms/step - loss: 0.3524 - val_loss: 0.3632\n",
      "Epoch 63/100\n",
      "219/219 [==============================] - 0s 1ms/step - loss: 0.3446 - val_loss: 0.3640\n",
      "Epoch 64/100\n",
      "219/219 [==============================] - 0s 1ms/step - loss: 0.3452 - val_loss: 0.3687\n",
      "Epoch 65/100\n",
      "219/219 [==============================] - 0s 1ms/step - loss: 0.3629 - val_loss: 0.3698\n",
      "Epoch 66/100\n",
      "219/219 [==============================] - 0s 1ms/step - loss: 0.3449 - val_loss: 0.3640\n",
      "Epoch 67/100\n",
      "219/219 [==============================] - 0s 1ms/step - loss: 0.3508 - val_loss: 0.3636\n",
      "Epoch 68/100\n",
      "219/219 [==============================] - 0s 1ms/step - loss: 0.3539 - val_loss: 0.3605\n",
      "Epoch 69/100\n",
      "219/219 [==============================] - 0s 1ms/step - loss: 0.3506 - val_loss: 0.3618\n",
      "Epoch 70/100\n",
      "219/219 [==============================] - 0s 1ms/step - loss: 0.3508 - val_loss: 0.3641\n",
      "Epoch 71/100\n",
      "219/219 [==============================] - 0s 1ms/step - loss: 0.3580 - val_loss: 0.3727\n",
      "Epoch 72/100\n",
      "219/219 [==============================] - 0s 1ms/step - loss: 0.3442 - val_loss: 0.3724\n",
      "Epoch 73/100\n",
      "219/219 [==============================] - 0s 1ms/step - loss: 0.3472 - val_loss: 0.3624\n",
      "Epoch 74/100\n",
      "219/219 [==============================] - 0s 1ms/step - loss: 0.3431 - val_loss: 0.3607\n",
      "Epoch 75/100\n",
      "219/219 [==============================] - 0s 1ms/step - loss: 0.3432 - val_loss: 0.3588\n",
      "Epoch 76/100\n",
      "219/219 [==============================] - 0s 1ms/step - loss: 0.3611 - val_loss: 0.3636\n",
      "Epoch 77/100\n",
      "219/219 [==============================] - 0s 1ms/step - loss: 0.3446 - val_loss: 0.3607\n",
      "Epoch 78/100\n",
      "219/219 [==============================] - 0s 1ms/step - loss: 0.3530 - val_loss: 0.3579\n",
      "Epoch 79/100\n",
      "219/219 [==============================] - 0s 1ms/step - loss: 0.3452 - val_loss: 0.3657\n",
      "Epoch 80/100\n",
      "219/219 [==============================] - 0s 1ms/step - loss: 0.3538 - val_loss: 0.3704\n",
      "Epoch 81/100\n"
     ]
    },
    {
     "name": "stdout",
     "output_type": "stream",
     "text": [
      "219/219 [==============================] - 0s 1ms/step - loss: 0.3505 - val_loss: 0.3613\n",
      "Epoch 82/100\n",
      "219/219 [==============================] - 0s 1ms/step - loss: 0.3475 - val_loss: 0.3634\n",
      "Epoch 83/100\n",
      "219/219 [==============================] - 0s 1ms/step - loss: 0.3394 - val_loss: 0.3617\n",
      "Epoch 84/100\n",
      "219/219 [==============================] - 0s 1ms/step - loss: 0.3653 - val_loss: 0.3660\n",
      "Epoch 85/100\n",
      "219/219 [==============================] - 0s 1ms/step - loss: 0.3537 - val_loss: 0.3662\n",
      "Epoch 86/100\n",
      "219/219 [==============================] - 0s 1ms/step - loss: 0.3283 - val_loss: 0.3637\n",
      "Epoch 87/100\n",
      "219/219 [==============================] - 0s 1ms/step - loss: 0.3435 - val_loss: 0.3586\n",
      "Epoch 88/100\n",
      "219/219 [==============================] - 0s 1ms/step - loss: 0.3507 - val_loss: 0.3629\n",
      "Epoch 89/100\n",
      "219/219 [==============================] - 0s 1ms/step - loss: 0.3474 - val_loss: 0.3574\n",
      "Epoch 90/100\n",
      "219/219 [==============================] - 0s 1ms/step - loss: 0.3474 - val_loss: 0.3584\n",
      "Epoch 91/100\n",
      "219/219 [==============================] - 0s 1ms/step - loss: 0.3446 - val_loss: 0.3577\n",
      "Epoch 92/100\n",
      "219/219 [==============================] - 0s 1ms/step - loss: 0.3555 - val_loss: 0.3586\n",
      "Epoch 93/100\n",
      "219/219 [==============================] - 0s 1ms/step - loss: 0.3468 - val_loss: 0.3578\n",
      "Epoch 94/100\n",
      "219/219 [==============================] - 0s 1ms/step - loss: 0.3508 - val_loss: 0.3586\n",
      "Epoch 95/100\n",
      "219/219 [==============================] - 0s 1ms/step - loss: 0.3482 - val_loss: 0.3633\n",
      "Epoch 96/100\n",
      "219/219 [==============================] - 0s 1ms/step - loss: 0.3426 - val_loss: 0.3617\n",
      "Epoch 97/100\n",
      "219/219 [==============================] - 0s 1ms/step - loss: 0.3429 - val_loss: 0.3607\n",
      "Epoch 98/100\n",
      "219/219 [==============================] - 0s 1ms/step - loss: 0.3419 - val_loss: 0.3553\n",
      "Epoch 99/100\n",
      "219/219 [==============================] - 0s 1ms/step - loss: 0.3334 - val_loss: 0.3575\n",
      "Epoch 100/100\n",
      "219/219 [==============================] - 0s 1ms/step - loss: 0.3387 - val_loss: 0.3565\n"
     ]
    },
    {
     "data": {
      "text/plain": [
       "<tensorflow.python.keras.callbacks.History at 0x7f80c662f100>"
      ]
     },
     "execution_count": 76,
     "metadata": {},
     "output_type": "execute_result"
    }
   ],
   "source": [
    "model.fit(X_train.values, y_train.values, epochs=100, validation_data=(X_test.values, y_test.values))"
   ]
  },
  {
   "cell_type": "code",
   "execution_count": 77,
   "metadata": {},
   "outputs": [
    {
     "data": {
      "text/plain": [
       "<matplotlib.axes._subplots.AxesSubplot at 0x7f80c7b59d90>"
      ]
     },
     "execution_count": 77,
     "metadata": {},
     "output_type": "execute_result"
    },
    {
     "data": {
      "image/png": "[encoded data removed]",
      "text/plain": [
       "<Figure size 432x288 with 1 Axes>"
      ]
     },
     "metadata": {
      "needs_background": "light"
     },
     "output_type": "display_data"
    }
   ],
   "source": [
    "pd.DataFrame(model.history.history).plot()"
   ]
  },
  {
   "cell_type": "code",
   "execution_count": 78,
   "metadata": {},
   "outputs": [
    {
     "name": "stderr",
     "output_type": "stream",
     "text": [
      "/opt/anaconda3/lib/python3.8/site-packages/tensorflow/python/keras/engine/sequential.py:450: UserWarning: `model.predict_classes()` is deprecated and will be removed after 2021-01-01. Please use instead:* `np.argmax(model.predict(x), axis=-1)`,   if your model does multi-class classification   (e.g. if it uses a `softmax` last-layer activation).* `(model.predict(x) > 0.5).astype(\"int32\")`,   if your model does binary classification   (e.g. if it uses a `sigmoid` last-layer activation).\n",
      "  warnings.warn('`model.predict_classes()` is deprecated and '\n"
     ]
    }
   ],
   "source": [
    "y_pred = model.predict_classes(X_test.values)"
   ]
  },
  {
   "cell_type": "code",
   "execution_count": 79,
   "metadata": {},
   "outputs": [
    {
     "name": "stdout",
     "output_type": "stream",
     "text": [
      "              precision    recall  f1-score   support\n",
      "\n",
      "           0       0.87      0.97      0.92      2389\n",
      "           1       0.79      0.42      0.55       611\n",
      "\n",
      "    accuracy                           0.86      3000\n",
      "   macro avg       0.83      0.69      0.73      3000\n",
      "weighted avg       0.85      0.86      0.84      3000\n",
      "\n"
     ]
    },
    {
     "data": {
      "text/plain": [
       "array([[2322,   67],\n",
       "       [ 356,  255]])"
      ]
     },
     "execution_count": 79,
     "metadata": {},
     "output_type": "execute_result"
    }
   ],
   "source": [
    "print(classification_report(y_test.values, y_pred))\n",
    "confusion_matrix(y_test.values, y_pred)"
   ]
  },
  {
   "cell_type": "markdown",
   "metadata": {},
   "source": [
    "## Model #2"
   ]
  },
  {
   "cell_type": "code",
   "execution_count": 85,
   "metadata": {},
   "outputs": [],
   "source": [
    "early_stop = EarlyStopping(monitor='val_loss', mode='min', patience=25)"
   ]
  },
  {
   "cell_type": "code",
   "execution_count": 88,
   "metadata": {},
   "outputs": [],
   "source": [
    "model = Sequential()\n",
    "\n",
    "model.add(Dense(11, activation='relu'))\n",
    "\n",
    "model.add(Dense(11, activation='relu'))\n",
    "model.add(Dropout(0.1))\n",
    "\n",
    "model.add(Dense(11, activation='relu'))\n",
    "model.add(Dropout(0.1))\n",
    "\n",
    "model.add(Dense(11, activation='relu'))\n",
    "model.add(Dropout(0.1))\n",
    "\n",
    "model.add(Dense(1, activation='sigmoid'))\n",
    "\n",
    "model.compile(optimizer='adam', loss='binary_crossentropy')"
   ]
  },
  {
   "cell_type": "code",
   "execution_count": 89,
   "metadata": {},
   "outputs": [
    {
     "name": "stdout",
     "output_type": "stream",
     "text": [
      "Epoch 1/600\n",
      "219/219 [==============================] - 1s 2ms/step - loss: 0.7344 - val_loss: 0.5183\n",
      "Epoch 2/600\n",
      "219/219 [==============================] - 0s 1ms/step - loss: 0.5309 - val_loss: 0.4897\n",
      "Epoch 3/600\n",
      "219/219 [==============================] - 0s 1ms/step - loss: 0.5072 - val_loss: 0.4734\n",
      "Epoch 4/600\n",
      "219/219 [==============================] - 0s 1ms/step - loss: 0.4857 - val_loss: 0.4606\n",
      "Epoch 5/600\n",
      "219/219 [==============================] - 0s 1ms/step - loss: 0.4770 - val_loss: 0.4572\n",
      "Epoch 6/600\n",
      "219/219 [==============================] - 0s 1ms/step - loss: 0.4732 - val_loss: 0.4515\n",
      "Epoch 7/600\n",
      "219/219 [==============================] - 0s 1ms/step - loss: 0.4645 - val_loss: 0.4476\n",
      "Epoch 8/600\n",
      "219/219 [==============================] - 0s 1ms/step - loss: 0.4618 - val_loss: 0.4447\n",
      "Epoch 9/600\n",
      "219/219 [==============================] - 0s 1ms/step - loss: 0.4581 - val_loss: 0.4479\n",
      "Epoch 10/600\n",
      "219/219 [==============================] - 0s 1ms/step - loss: 0.4485 - val_loss: 0.4475\n",
      "Epoch 11/600\n",
      "219/219 [==============================] - 0s 1ms/step - loss: 0.4620 - val_loss: 0.4433\n",
      "Epoch 12/600\n",
      "219/219 [==============================] - 0s 1ms/step - loss: 0.4524 - val_loss: 0.4493\n",
      "Epoch 13/600\n",
      "219/219 [==============================] - 0s 1ms/step - loss: 0.4496 - val_loss: 0.4401\n",
      "Epoch 14/600\n",
      "219/219 [==============================] - 0s 2ms/step - loss: 0.4378 - val_loss: 0.4435\n",
      "Epoch 15/600\n",
      "219/219 [==============================] - 0s 1ms/step - loss: 0.4399 - val_loss: 0.4365\n",
      "Epoch 16/600\n",
      "219/219 [==============================] - 0s 1ms/step - loss: 0.4347 - val_loss: 0.4378\n",
      "Epoch 17/600\n",
      "219/219 [==============================] - 0s 1ms/step - loss: 0.4320 - val_loss: 0.4320\n",
      "Epoch 18/600\n",
      "219/219 [==============================] - 0s 1ms/step - loss: 0.4318 - val_loss: 0.4299\n",
      "Epoch 19/600\n",
      "219/219 [==============================] - 0s 1ms/step - loss: 0.4303 - val_loss: 0.4246\n",
      "Epoch 20/600\n",
      "219/219 [==============================] - 0s 1ms/step - loss: 0.4332 - val_loss: 0.4339\n",
      "Epoch 21/600\n",
      "219/219 [==============================] - 0s 1ms/step - loss: 0.4247 - val_loss: 0.4159\n",
      "Epoch 22/600\n",
      "219/219 [==============================] - 0s 1ms/step - loss: 0.4296 - val_loss: 0.4131\n",
      "Epoch 23/600\n",
      "219/219 [==============================] - 0s 1ms/step - loss: 0.4237 - val_loss: 0.4088\n",
      "Epoch 24/600\n",
      "219/219 [==============================] - 0s 1ms/step - loss: 0.4315 - val_loss: 0.4062\n",
      "Epoch 25/600\n",
      "219/219 [==============================] - 0s 1ms/step - loss: 0.4156 - val_loss: 0.3968\n",
      "Epoch 26/600\n",
      "219/219 [==============================] - 0s 1ms/step - loss: 0.4146 - val_loss: 0.3901\n",
      "Epoch 27/600\n",
      "219/219 [==============================] - 0s 1ms/step - loss: 0.4028 - val_loss: 0.3884\n",
      "Epoch 28/600\n",
      "219/219 [==============================] - 0s 2ms/step - loss: 0.4084 - val_loss: 0.3835\n",
      "Epoch 29/600\n",
      "219/219 [==============================] - 0s 1ms/step - loss: 0.3944 - val_loss: 0.3827\n",
      "Epoch 30/600\n",
      "219/219 [==============================] - 0s 1ms/step - loss: 0.3823 - val_loss: 0.3826\n",
      "Epoch 31/600\n",
      "219/219 [==============================] - 0s 1ms/step - loss: 0.3829 - val_loss: 0.3885\n",
      "Epoch 32/600\n",
      "219/219 [==============================] - 0s 1ms/step - loss: 0.3917 - val_loss: 0.3779\n",
      "Epoch 33/600\n",
      "219/219 [==============================] - 0s 1ms/step - loss: 0.3916 - val_loss: 0.3794\n",
      "Epoch 34/600\n",
      "219/219 [==============================] - 0s 1ms/step - loss: 0.3924 - val_loss: 0.3807\n",
      "Epoch 35/600\n",
      "219/219 [==============================] - 0s 2ms/step - loss: 0.3906 - val_loss: 0.3761\n",
      "Epoch 36/600\n",
      "219/219 [==============================] - 0s 1ms/step - loss: 0.3831 - val_loss: 0.3736\n",
      "Epoch 37/600\n",
      "219/219 [==============================] - 0s 2ms/step - loss: 0.3716 - val_loss: 0.3784\n",
      "Epoch 38/600\n",
      "219/219 [==============================] - 0s 1ms/step - loss: 0.3704 - val_loss: 0.3750\n",
      "Epoch 39/600\n",
      "219/219 [==============================] - 0s 1ms/step - loss: 0.3749 - val_loss: 0.3708\n",
      "Epoch 40/600\n",
      "219/219 [==============================] - 0s 1ms/step - loss: 0.3810 - val_loss: 0.3857\n",
      "Epoch 41/600\n",
      "219/219 [==============================] - 0s 1ms/step - loss: 0.3748 - val_loss: 0.3706\n",
      "Epoch 42/600\n",
      "219/219 [==============================] - 0s 1ms/step - loss: 0.3744 - val_loss: 0.3710\n",
      "Epoch 43/600\n",
      "219/219 [==============================] - 0s 1ms/step - loss: 0.3761 - val_loss: 0.3687\n",
      "Epoch 44/600\n",
      "219/219 [==============================] - 0s 1ms/step - loss: 0.3788 - val_loss: 0.3774\n",
      "Epoch 45/600\n",
      "219/219 [==============================] - 0s 1ms/step - loss: 0.3795 - val_loss: 0.3705\n",
      "Epoch 46/600\n",
      "219/219 [==============================] - 0s 1ms/step - loss: 0.3653 - val_loss: 0.3685\n",
      "Epoch 47/600\n",
      "219/219 [==============================] - 0s 1ms/step - loss: 0.3653 - val_loss: 0.3669\n",
      "Epoch 48/600\n",
      "219/219 [==============================] - 0s 1ms/step - loss: 0.3785 - val_loss: 0.3799\n",
      "Epoch 49/600\n",
      "219/219 [==============================] - 0s 1ms/step - loss: 0.3694 - val_loss: 0.3815\n",
      "Epoch 50/600\n",
      "219/219 [==============================] - 0s 1ms/step - loss: 0.3769 - val_loss: 0.3875\n",
      "Epoch 51/600\n",
      "219/219 [==============================] - 0s 1ms/step - loss: 0.3769 - val_loss: 0.3649\n",
      "Epoch 52/600\n",
      "219/219 [==============================] - 0s 1ms/step - loss: 0.3713 - val_loss: 0.3658\n",
      "Epoch 53/600\n",
      "219/219 [==============================] - 0s 1ms/step - loss: 0.3660 - val_loss: 0.3685\n",
      "Epoch 54/600\n",
      "219/219 [==============================] - 0s 1ms/step - loss: 0.3705 - val_loss: 0.3645\n",
      "Epoch 55/600\n",
      "219/219 [==============================] - 0s 1ms/step - loss: 0.3788 - val_loss: 0.3620\n",
      "Epoch 56/600\n",
      "219/219 [==============================] - 0s 1ms/step - loss: 0.3799 - val_loss: 0.3711\n",
      "Epoch 57/600\n",
      "219/219 [==============================] - 0s 2ms/step - loss: 0.3783 - val_loss: 0.3667\n",
      "Epoch 58/600\n",
      "219/219 [==============================] - 0s 2ms/step - loss: 0.3805 - val_loss: 0.3625\n",
      "Epoch 59/600\n",
      "219/219 [==============================] - 0s 2ms/step - loss: 0.3641 - val_loss: 0.3635\n",
      "Epoch 60/600\n",
      "219/219 [==============================] - 0s 2ms/step - loss: 0.3640 - val_loss: 0.3702\n",
      "Epoch 61/600\n",
      "219/219 [==============================] - 0s 2ms/step - loss: 0.3684 - val_loss: 0.3640\n",
      "Epoch 62/600\n",
      "219/219 [==============================] - 0s 1ms/step - loss: 0.3693 - val_loss: 0.3655\n",
      "Epoch 63/600\n",
      "219/219 [==============================] - 0s 1ms/step - loss: 0.3739 - val_loss: 0.3666\n",
      "Epoch 64/600\n",
      "219/219 [==============================] - 0s 1ms/step - loss: 0.3703 - val_loss: 0.3656\n",
      "Epoch 65/600\n",
      "219/219 [==============================] - 0s 1ms/step - loss: 0.3642 - val_loss: 0.3679\n",
      "Epoch 66/600\n",
      "219/219 [==============================] - 0s 2ms/step - loss: 0.3715 - val_loss: 0.3778\n",
      "Epoch 67/600\n",
      "219/219 [==============================] - 0s 1ms/step - loss: 0.3832 - val_loss: 0.3607\n",
      "Epoch 68/600\n",
      "219/219 [==============================] - 0s 1ms/step - loss: 0.3515 - val_loss: 0.3689\n",
      "Epoch 69/600\n",
      "219/219 [==============================] - 0s 2ms/step - loss: 0.3625 - val_loss: 0.3634\n",
      "Epoch 70/600\n",
      "219/219 [==============================] - 0s 1ms/step - loss: 0.3647 - val_loss: 0.3591\n",
      "Epoch 71/600\n",
      "219/219 [==============================] - 0s 1ms/step - loss: 0.3655 - val_loss: 0.3635\n",
      "Epoch 72/600\n",
      "219/219 [==============================] - 0s 1ms/step - loss: 0.3600 - val_loss: 0.3667\n",
      "Epoch 73/600\n",
      "219/219 [==============================] - 0s 1ms/step - loss: 0.3574 - val_loss: 0.3635\n",
      "Epoch 74/600\n",
      "219/219 [==============================] - 0s 1ms/step - loss: 0.3686 - val_loss: 0.3657\n",
      "Epoch 75/600\n",
      "219/219 [==============================] - 0s 1ms/step - loss: 0.3654 - val_loss: 0.3703\n",
      "Epoch 76/600\n",
      "219/219 [==============================] - 0s 1ms/step - loss: 0.3674 - val_loss: 0.3656\n",
      "Epoch 77/600\n",
      "219/219 [==============================] - 0s 1ms/step - loss: 0.3692 - val_loss: 0.3606\n",
      "Epoch 78/600\n",
      "219/219 [==============================] - 0s 1ms/step - loss: 0.3597 - val_loss: 0.3693\n",
      "Epoch 79/600\n",
      "219/219 [==============================] - 0s 1ms/step - loss: 0.3646 - val_loss: 0.3633\n",
      "Epoch 80/600\n",
      "219/219 [==============================] - 0s 1ms/step - loss: 0.3672 - val_loss: 0.3645\n",
      "Epoch 81/600\n"
     ]
    },
    {
     "name": "stdout",
     "output_type": "stream",
     "text": [
      "219/219 [==============================] - 0s 1ms/step - loss: 0.3604 - val_loss: 0.3616\n",
      "Epoch 82/600\n",
      "219/219 [==============================] - 0s 1ms/step - loss: 0.3587 - val_loss: 0.3624\n",
      "Epoch 83/600\n",
      "219/219 [==============================] - 0s 1ms/step - loss: 0.3665 - val_loss: 0.3685\n",
      "Epoch 84/600\n",
      "219/219 [==============================] - 0s 2ms/step - loss: 0.3813 - val_loss: 0.3620\n",
      "Epoch 85/600\n",
      "219/219 [==============================] - 0s 2ms/step - loss: 0.3644 - val_loss: 0.3625\n",
      "Epoch 86/600\n",
      "219/219 [==============================] - 0s 1ms/step - loss: 0.3695 - val_loss: 0.3602\n",
      "Epoch 87/600\n",
      "219/219 [==============================] - 0s 1ms/step - loss: 0.3621 - val_loss: 0.3607\n",
      "Epoch 88/600\n",
      "219/219 [==============================] - 0s 1ms/step - loss: 0.3697 - val_loss: 0.3630\n",
      "Epoch 89/600\n",
      "219/219 [==============================] - 0s 1ms/step - loss: 0.3657 - val_loss: 0.3618\n",
      "Epoch 90/600\n",
      "219/219 [==============================] - 0s 1ms/step - loss: 0.3732 - val_loss: 0.3595\n",
      "Epoch 91/600\n",
      "219/219 [==============================] - 0s 1ms/step - loss: 0.3656 - val_loss: 0.3615\n",
      "Epoch 92/600\n",
      "219/219 [==============================] - 0s 2ms/step - loss: 0.3622 - val_loss: 0.3727\n",
      "Epoch 93/600\n",
      "219/219 [==============================] - 0s 2ms/step - loss: 0.3623 - val_loss: 0.3928\n",
      "Epoch 94/600\n",
      "219/219 [==============================] - 0s 1ms/step - loss: 0.3690 - val_loss: 0.3696\n",
      "Epoch 95/600\n",
      "219/219 [==============================] - 0s 1ms/step - loss: 0.3611 - val_loss: 0.3623\n"
     ]
    },
    {
     "data": {
      "text/plain": [
       "<tensorflow.python.keras.callbacks.History at 0x7f80c88e49a0>"
      ]
     },
     "execution_count": 89,
     "metadata": {},
     "output_type": "execute_result"
    }
   ],
   "source": [
    "model.fit(X_train.values, y_train.values, epochs=600, validation_data=(X_test.values, y_test.values), \n",
    "          callbacks=[early_stop])"
   ]
  },
  {
   "cell_type": "code",
   "execution_count": 90,
   "metadata": {},
   "outputs": [
    {
     "data": {
      "text/plain": [
       "<matplotlib.axes._subplots.AxesSubplot at 0x7f80c8af4c10>"
      ]
     },
     "execution_count": 90,
     "metadata": {},
     "output_type": "execute_result"
    },
    {
     "data": {
      "image/png": "[encoded data removed]",
      "text/plain": [
       "<Figure size 432x288 with 1 Axes>"
      ]
     },
     "metadata": {
      "needs_background": "light"
     },
     "output_type": "display_data"
    }
   ],
   "source": [
    "pd.DataFrame(model.history.history).plot()"
   ]
  },
  {
   "cell_type": "code",
   "execution_count": 68,
   "metadata": {},
   "outputs": [
    {
     "name": "stderr",
     "output_type": "stream",
     "text": [
      "/opt/anaconda3/lib/python3.8/site-packages/tensorflow/python/keras/engine/sequential.py:450: UserWarning: `model.predict_classes()` is deprecated and will be removed after 2021-01-01. Please use instead:* `np.argmax(model.predict(x), axis=-1)`,   if your model does multi-class classification   (e.g. if it uses a `softmax` last-layer activation).* `(model.predict(x) > 0.5).astype(\"int32\")`,   if your model does binary classification   (e.g. if it uses a `sigmoid` last-layer activation).\n",
      "  warnings.warn('`model.predict_classes()` is deprecated and '\n"
     ]
    }
   ],
   "source": [
    "y_pred = model.predict_classes(X_test)"
   ]
  },
  {
   "cell_type": "code",
   "execution_count": 91,
   "metadata": {},
   "outputs": [],
   "source": [
    "from sklearn.metrics import classification_report, confusion_matrix"
   ]
  },
  {
   "cell_type": "code",
   "execution_count": 92,
   "metadata": {},
   "outputs": [
    {
     "name": "stdout",
     "output_type": "stream",
     "text": [
      "              precision    recall  f1-score   support\n",
      "\n",
      "           0       0.87      0.97      0.92      2389\n",
      "           1       0.79      0.42      0.55       611\n",
      "\n",
      "    accuracy                           0.86      3000\n",
      "   macro avg       0.83      0.69      0.73      3000\n",
      "weighted avg       0.85      0.86      0.84      3000\n",
      "\n"
     ]
    },
    {
     "data": {
      "text/plain": [
       "array([[2322,   67],\n",
       "       [ 356,  255]])"
      ]
     },
     "execution_count": 92,
     "metadata": {},
     "output_type": "execute_result"
    }
   ],
   "source": [
    "print(classification_report(y_test.values, y_pred))\n",
    "confusion_matrix(y_test.values, y_pred)"
   ]
  },
  {
   "cell_type": "markdown",
   "metadata": {
    "ExecuteTime": {
     "end_time": "2021-02-10T15:44:09.410506Z",
     "start_time": "2021-02-10T15:44:09.407972Z"
    }
   },
   "source": [
    "# Conclusion"
   ]
  },
  {
   "cell_type": "markdown",
   "metadata": {},
   "source": [
    "In this notebook, we have implemented XGBoostClassifier to predict which customer will likely to leave. Using RandomizedSearchCV, we tuned hyperparameter of our model achieving 86.5% accuracy (cv=10). "
   ]
  },
  {
   "cell_type": "markdown",
   "metadata": {
    "ExecuteTime": {
     "end_time": "2021-02-10T15:46:37.351714Z",
     "start_time": "2021-02-10T15:46:37.349132Z"
    }
   },
   "source": [
    "# Further Studies"
   ]
  },
  {
   "cell_type": "markdown",
   "metadata": {},
   "source": [
    "Overall goal should be correctly identifying customers who will leave the bank so that the bank could offer them something to keep them. So feature engineering or scaling could be explored to increase its negative recall (currently 46%)."
   ]
  },
  {
   "cell_type": "code",
   "execution_count": null,
   "metadata": {},
   "outputs": [],
   "source": []
  }
 ],
 "metadata": {
  "kernelspec": {
   "display_name": "Python 3",
   "language": "python",
   "name": "python3"
  },
  "language_info": {
   "codemirror_mode": {
    "name": "ipython",
    "version": 3
   },
   "file_extension": ".py",
   "mimetype": "text/x-python",
   "name": "python",
   "nbconvert_exporter": "python",
   "pygments_lexer": "ipython3",
   "version": "3.8.3"
  },
  "toc": {
   "base_numbering": 1,
   "nav_menu": {},
   "number_sections": true,
   "sideBar": true,
   "skip_h1_title": false,
   "title_cell": "Table of Contents",
   "title_sidebar": "Contents",
   "toc_cell": false,
   "toc_position": {},
   "toc_section_display": true,
   "toc_window_display": false
  }
 },
 "nbformat": 4,
 "nbformat_minor": 2
}
